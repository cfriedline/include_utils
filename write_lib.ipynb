{
 "metadata": {
  "name": "",
  "signature": "sha256:98dc6fb3984821e88896f6715795952e03e5e86fa63a275360ca37ce3e50a654"
 },
 "nbformat": 3,
 "nbformat_minor": 0,
 "worksheets": [
  {
   "cells": [
    {
     "cell_type": "code",
     "collapsed": false,
     "input": [
      "import os,shutil"
     ],
     "language": "python",
     "metadata": {},
     "outputs": [],
     "prompt_number": ""
    },
    {
     "cell_type": "code",
     "collapsed": false,
     "input": [
      "def write_lib():\n",
      "    nb_name = \"include_utils.ipynb\"\n",
      "    nb_path = os.path.abspath(nb_name)\n",
      "    site_packages = \"/data7/cfriedline/anaconda/envs/conda/lib/python2.7/site-packages\"\n",
      "    !ipython nbconvert --to python $nb_path\n",
      "    shutil.copy(nb_path.replace(\"ipynb\", \"py\"), site_packages)\n",
      "write_lib()"
     ],
     "language": "python",
     "metadata": {},
     "outputs": [],
     "prompt_number": ""
    },
    {
     "cell_type": "code",
     "collapsed": false,
     "input": [],
     "language": "python",
     "metadata": {},
     "outputs": []
    }
   ],
   "metadata": {}
  }
 ]
}