{
 "metadata": {
  "name": "",
  "signature": "sha256:378503e6b52cba9a262ab249468d562d20369aeec7e4d943bd217966a7649f23"
 },
 "nbformat": 3,
 "nbformat_minor": 0,
 "worksheets": [
  {
   "cells": [
    {
     "cell_type": "code",
     "collapsed": false,
     "input": [
      "from subprocess import check_output\n",
      "from IPython.parallel import Client\n",
      "import IPython\n",
      "import os, sys, socket\n",
      "import shutil"
     ],
     "language": "python",
     "metadata": {},
     "outputs": [],
     "prompt_number": ""
    },
    {
     "cell_type": "code",
     "collapsed": false,
     "input": [
      "def get_cluster_hosts():\n",
      "    qhost = check_output(\"qhost | grep godel\", shell=True).split(\"\\n\")[3:-1]\n",
      "    qhost = [x.split() for x in qhost]\n",
      "    hosts = [x[0] for x in qhost]\n",
      "    return hosts"
     ],
     "language": "python",
     "metadata": {},
     "outputs": [],
     "prompt_number": ""
    },
    {
     "cell_type": "code",
     "collapsed": false,
     "input": [
      "def get_client(profile):\n",
      "    return Client(profile=profile)"
     ],
     "language": "python",
     "metadata": {},
     "outputs": [],
     "prompt_number": ""
    },
    {
     "cell_type": "code",
     "collapsed": false,
     "input": [
      "def get_views(rc):\n",
      "    return rc[:], rc.load_balanced_view()"
     ],
     "language": "python",
     "metadata": {},
     "outputs": [],
     "prompt_number": ""
    },
    {
     "cell_type": "code",
     "collapsed": false,
     "input": [
      "def get_async_progress(jobs):\n",
      "    ready = 0\n",
      "    for j in jobs:\n",
      "        if j.ready():\n",
      "            ready += 1\n",
      "    return \"%d/%d\" % (ready, len(jobs))"
     ],
     "language": "python",
     "metadata": {},
     "outputs": [],
     "prompt_number": ""
    },
    {
     "cell_type": "code",
     "collapsed": false,
     "input": [
      "def get_idle_engines(rc):\n",
      "    qs = rc.queue_status()\n",
      "    time.sleep(10)\n",
      "    active = [eid for eid in sorted(qs)[:-1] if not qs[eid]['queue']]\n",
      "    d = rc[active]\n",
      "    l = rc.load_balanced_view(targets=active)\n",
      "    return d, l"
     ],
     "language": "python",
     "metadata": {},
     "outputs": [],
     "prompt_number": ""
    },
    {
     "cell_type": "code",
     "collapsed": false,
     "input": [
      "def get_single_host_lview(host_list):\n",
      "    hosts = dview.apply(socket.gethostname).get()\n",
      "    host_ids = {}\n",
      "    for i, host in enumerate(hosts):\n",
      "        if not host in host_ids:\n",
      "            host_ids[host] = []\n",
      "        if host_list == \"all\":\n",
      "            host_ids[host].append(i)\n",
      "        elif host in host_list:\n",
      "            host_ids[host].append(i)\n",
      "    hview = [v[0] for k, v in host_ids.items()]\n",
      "    hlview = rc.load_balanced_view(targets=hview)\n",
      "    return hlview"
     ],
     "language": "python",
     "metadata": {},
     "outputs": [],
     "prompt_number": ""
    },
    {
     "cell_type": "markdown",
     "metadata": {},
     "source": [
      "##Write python file from this notebook and copy to site packages"
     ]
    },
    {
     "cell_type": "code",
     "collapsed": false,
     "input": [
      "nb_name = \"include_utils.ipynb\"\n",
      "nb_path = os.path.abspath(nb_name)\n",
      "site_packages = \"/data7/cfriedline/anaconda/envs/conda/lib/python2.7/site-packages\"\n",
      "!ipython nbconvert --to python $nb_path\n",
      "shutil.copy(nb_path.replace(\"ipynb\", \"py\"), site_packages)"
     ],
     "language": "python",
     "metadata": {},
     "outputs": [],
     "prompt_number": ""
    }
   ],
   "metadata": {}
  }
 ]
}