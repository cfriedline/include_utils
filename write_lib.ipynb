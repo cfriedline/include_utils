{
 "metadata": {
  "name": "",
  "signature": "sha256:61508f10e6ac2ea28d00b205b7505fac60add616dfe2e444e0edc638ca60f509"
 },
 "nbformat": 3,
 "nbformat_minor": 0,
 "worksheets": [
  {
   "cells": [
    {
     "cell_type": "code",
     "collapsed": false,
     "input": [
      "import os,shutil"
     ],
     "language": "python",
     "metadata": {},
     "outputs": [],
     "prompt_number": ""
    },
    {
     "cell_type": "code",
     "collapsed": false,
     "input": [
      "def write_lib():\n",
      "    nb_name = \"include_utils.ipynb\"\n",
      "    nb_path = os.path.abspath(nb_name)\n",
      "    site_packages = \"/data7/cfriedline/anaconda/envs/conda/lib/python2.7/site-packages\"\n",
      "    !ipython nbconvert --to python $nb_path\n",
      "    shutil.copy(nb_path.replace(\"ipynb\", \"py\"), site_packages)\n",
      "write_lib()"
     ],
     "language": "python",
     "metadata": {},
     "outputs": []
    },
    {
     "cell_type": "code",
     "collapsed": false,
     "input": [],
     "language": "python",
     "metadata": {},
     "outputs": []
    }
   ],
   "metadata": {}
  }
 ]
}