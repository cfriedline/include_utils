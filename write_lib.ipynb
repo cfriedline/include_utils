{
 "metadata": {
  "name": "",
  "signature": "sha256:6ce7a09068c42548c74cc254314870dce42b0c86714aff3ebf98357727de4156"
 },
 "nbformat": 3,
 "nbformat_minor": 0,
 "worksheets": [
  {
   "cells": [
    {
     "cell_type": "code",
     "collapsed": false,
     "input": [
      "import os,shutil"
     ],
     "language": "python",
     "metadata": {},
     "outputs": [],
     "prompt_number": ""
    },
    {
     "cell_type": "code",
     "collapsed": false,
     "input": [
      "def write_lib():\n",
      "    nb_name = \"include_utils.ipynb\"\n",
      "    nb_path = os.path.abspath(nb_name)\n",
      "    site_packages = \"/data7/cfriedline/anaconda/envs/conda/lib/python2.7/site-packages\"\n",
      "    !ipython nbconvert --to python $nb_path\n",
      "    shutil.copy(nb_path.replace(\"ipynb\", \"py\"), site_packages)\n",
      "write_lib()"
     ],
     "language": "python",
     "metadata": {},
     "outputs": [],
     "prompt_number": ""
    },
    {
     "cell_type": "code",
     "collapsed": false,
     "input": [],
     "language": "python",
     "metadata": {},
     "outputs": []
    }
   ],
   "metadata": {}
  }
 ]
}