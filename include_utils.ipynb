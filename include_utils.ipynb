{
 "metadata": {
  "name": "",
  "signature": "sha256:f667978da4bf2d07bf9d7934512360865e00ec9937e394872d1038fe3ecd029c"
 },
 "nbformat": 3,
 "nbformat_minor": 0,
 "worksheets": [
  {
   "cells": [
    {
     "cell_type": "code",
     "collapsed": false,
     "input": [
      "from subprocess import check_output\n",
      "from IPython.parallel import Client\n",
      "import IPython\n",
      "import os, sys, socket\n",
      "import shutil\n",
      "import time"
     ],
     "language": "python",
     "metadata": {},
     "outputs": [],
     "prompt_number": ""
    },
    {
     "cell_type": "code",
     "collapsed": false,
     "input": [
      "def get_cluster_hosts():\n",
      "    qhost = check_output(\"qhost | grep godel\", shell=True).split(\"\\n\")[3:-1]\n",
      "    qhost = [x.split() for x in qhost]\n",
      "    hosts = [x[0] for x in qhost]\n",
      "    return hosts"
     ],
     "language": "python",
     "metadata": {},
     "outputs": [],
     "prompt_number": ""
    },
    {
     "cell_type": "code",
     "collapsed": false,
     "input": [
      "def get_client(profile):\n",
      "    return Client(profile=profile)"
     ],
     "language": "python",
     "metadata": {},
     "outputs": [],
     "prompt_number": ""
    },
    {
     "cell_type": "code",
     "collapsed": false,
     "input": [
      "def get_views(rc):\n",
      "    return rc[:], rc.load_balanced_view()"
     ],
     "language": "python",
     "metadata": {},
     "outputs": [],
     "prompt_number": ""
    },
    {
     "cell_type": "code",
     "collapsed": false,
     "input": [
      "def get_async_progress(jobs):\n",
      "    ready = 0\n",
      "    for j in jobs:\n",
      "        if j.ready():\n",
      "            ready += 1\n",
      "    return \"%d/%d\" % (ready, len(jobs))"
     ],
     "language": "python",
     "metadata": {},
     "outputs": [],
     "prompt_number": ""
    },
    {
     "cell_type": "code",
     "collapsed": false,
     "input": [
      "def get_idle_engines(rc):\n",
      "    qs = rc.queue_status()\n",
      "    time.sleep(10)\n",
      "    active = [eid for eid in sorted(qs)[:-1] if not qs[eid]['queue']]\n",
      "    d = rc[active]\n",
      "    l = rc.load_balanced_view(targets=active)\n",
      "    return d, l"
     ],
     "language": "python",
     "metadata": {},
     "outputs": [],
     "prompt_number": ""
    },
    {
     "cell_type": "code",
     "collapsed": false,
     "input": [
      "def get_single_host_lview(rc, host_list):\n",
      "    hosts = rc[:].apply(socket.gethostname).get()\n",
      "    ids = rc.ids\n",
      "    host_ids = {}\n",
      "    for i, host in enumerate(hosts):\n",
      "        if not host in host_ids:\n",
      "            host_ids[host] = []\n",
      "        if host_list == \"all\":\n",
      "            host_ids[host].append(ids[i])\n",
      "        elif host in host_list:\n",
      "            host_ids[host].append(ids[i])\n",
      "    hview = [v[0] for k, v in host_ids.items()]\n",
      "    hlview = rc.load_balanced_view(targets=hview)\n",
      "    return hlview"
     ],
     "language": "python",
     "metadata": {},
     "outputs": [],
     "prompt_number": ""
    },
    {
     "cell_type": "code",
     "collapsed": false,
     "input": [],
     "language": "python",
     "metadata": {},
     "outputs": []
    }
   ],
   "metadata": {}
  }
 ]
}